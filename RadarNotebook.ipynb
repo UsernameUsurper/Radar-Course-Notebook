{
  "nbformat": 4,
  "nbformat_minor": 0,
  "metadata": {
    "colab": {
      "name": "RadarNotebook.ipynb",
      "provenance": [],
      "toc_visible": true,
      "authorship_tag": "ABX9TyOIkL8myf2/Nhq0EgSQ7+Ps",
      "include_colab_link": true
    },
    "kernelspec": {
      "name": "python3",
      "display_name": "Python 3"
    }
  },
  "cells": [
    {
      "cell_type": "markdown",
      "metadata": {
        "id": "view-in-github",
        "colab_type": "text"
      },
      "source": [
        "<a href=\"https://colab.research.google.com/github/UsernameUsurper/Radar-Course-Notebook/blob/master/RadarNotebook.ipynb\" target=\"_parent\"><img src=\"https://colab.research.google.com/assets/colab-badge.svg\" alt=\"Open In Colab\"/></a>"
      ]
    },
    {
      "cell_type": "markdown",
      "metadata": {
        "id": "8WkWmS-RchBX",
        "colab_type": "text"
      },
      "source": [
        "\n",
        "# Contents\n",
        "1.   Introduction\n",
        "2.   Radar Fundamentals\n",
        "3.   NeXtRAD\n"
      ]
    },
    {
      "cell_type": "markdown",
      "metadata": {
        "id": "jQz0rIvAcmzc",
        "colab_type": "text"
      },
      "source": [
        "# 1 Introduction\n"
      ]
    },
    {
      "cell_type": "markdown",
      "metadata": {
        "id": "kYO_ELackdee",
        "colab_type": "text"
      },
      "source": [
        "\n",
        "This course had its origin in observing students exposed to radar at senior and postgraduate and the realisation that even the best students lacked a deep understanding of the physics and fundamental quantities involved in how even a simple, pulsed, radar works. This course hopes to alleviate this by means of exhaustive explanation and most important, exercises by the student.\n",
        "\n",
        "As a side issue, the student is exposed to simulators and modern spreadsheet technology to execute these calculations. Finally, a working, pulsed Doppler radar is available, and students work through its hardware, make measurements of real targets and analyse captured signals.\n",
        "\n",
        "The course is presented mostly as sessions on a whiteboard / computer displays. Students are expected to make their own notes.  These are done using a number of tools, where the Jupyter Notebook is a firm base. However, the main objective is to use rudimentary Python for calculations.\n",
        "\n",
        "Writing notes by hand generally improves your understanding of the material and helps you remember it better, since writing it down involves deeper cognitive-processing of the material than typing it, and worse, just reading Powerpoint slides. Handwriting vs. Typing: How to Choose the Best Method to Take Notes:\n",
        "https://effectiviology.com/handwriting-vs-typing-how-to-take-notes/\n",
        "\n",
        "All software is Open Source, available for download."
      ]
    },
    {
      "cell_type": "markdown",
      "metadata": {
        "id": "VfVbHx2cNN6J",
        "colab_type": "text"
      },
      "source": [
        "\n",
        "## 1.1 Introducing Jupyter and Colab\n",
        "Welcome to your Jupyter Notebook! Using Jupyter and Google's Colab will allow us to write simple code snippets with text and graphic explanations, so that you can follow along, write your own notes, and run quick sanity checks using Python 3.\n",
        "\n",
        "**Jupyter** is a interactive Python session that allows us to run and edit code, whilst keeping useful variables stored in RAM. You can edit, rearange and share your Notebook for collaboration within teams. For more info, see the Jupyter website: https://jupyter.org/. You can install Jupyter on your laptop if you'd like an offline editor, but we'll use Google's Colab to ease the learning curve.\n",
        "\n",
        "**Google Colab** is  a free, Cloud based Jupyter editor that allows multiple users to share a Jupyter notebook. All the processing is handled on Google's Cloud based computing, so your laptop won't need any performance specs to run any code. For more on Colab see: https://colab.research.google.com/notebooks/intro.ipynb#recent=true\n",
        "\n",
        "### 1.1.1 Navigating the Notebook Quickly\n",
        "On the left hand side toolbar, you should see three symbols. The Table of Contents is the top most symbol, and will allow you to quickly move to relavent sections.\n",
        "\n",
        "You can collapse and expand entire sections, or subsections by clicking the small down arrow next to the section heading in the main text body. This may make it easier for you to follow by reducing the clutter surrounding the current topic.\n",
        "\n",
        "### 1.1.2 How to add a text cell\n",
        "Below the main toolbar, you will see a 'plus' symbol with Text. This will insert a text cell below the current cell that you are using. \n",
        "\n",
        "Within this cell you can add pretty much any text or image you would like, including URL links. This will allow you to add your own notes and explanations to the current notebook. You are free to add to, delete from, or edit, any of the code and text within this notebook. \n",
        "\n",
        "Markdown is a code-like way of writing in plain text, such that special Markdown specific symbols are interpreted as Using Markdown style writing is fairly simple and can be quickly picked up by following this tutorial: https://www.computerhope.com/jargon/m/markdown.htm\n",
        "\n",
        "However, Colab has added a simple way of editing text, similar to any graphical text editor. Use whichever method you prefer.\n",
        "\n",
        "---\n"
      ]
    },
    {
      "cell_type": "markdown",
      "metadata": {
        "id": "DQeaILIhMxcE",
        "colab_type": "text"
      },
      "source": [
        "## 1.2 Python 3 with Jupyter Tutorial\n",
        "As of 2020, Python is currently the highest ranked programming language amoungst active programmers and students. The reason for its popularity is due to its ubiquitous use across all fields, simple language-like structure, and large community support. Learning Python is highly encouraged, as there are are thousands of tutorials on the internet, with many of them offered free of charge. \n",
        "\n",
        "For this Course, we'll only use Python in the most rudimentary way, avoiding any computer science if possible. The code generated in this course will primarily be a way of supplementing the theory with quick calculations, and simple plots.\n",
        "\n",
        "If you have no experience in Python, or computer coding in general, do not fret! The instructors will be on hand to assist if you need help. Nevertheless, the following code cells will demonstrate a few basics to get started with, so that you can run back-of-the-envelope calculations later on. If you have used Python before, but not Jupyter, stick around to try out the code cells."
      ]
    },
    {
      "cell_type": "markdown",
      "metadata": {
        "id": "z6AaKev5ZE20",
        "colab_type": "text"
      },
      "source": [
        "### 1.2.1 Simple Algebraic Expression\n",
        "Let's start with the simplest concept in coding: Defining a variable. Variables are typically integers, floats (numbers with a decimal point) or strings (a 'string' of characters), although there are several other more advanced data types. Variables can have almost any name, except for a few reserved for Python. That being said, you should try give them a name that represents what they are (which will make it easier to remember what they are at a later stage). \n",
        "\n",
        "In the next 'code cell' you'll see we've defined two variables. In Jupyter Notebooks, you will need to run the cell in order to save the code variables or output into memory.\n",
        "\n",
        "To run the code cell that you are on, you can click the play\n",
        "button in the top, left-hand corner of the cell, or press shift+enter if you are in the cell. \n",
        "\n",
        "If the cell is running, you should see a loading bar, and upon completion, the brackets will have a number in them telling you what order the cell was executed. If you run into errors, Python will give you a descriptive error, which can be used to solve your problem. If you are unsure of the error, ask a tutor of copy and paste the error into a search engine - there are no stupid questions.\n",
        "\n",
        "Feel free to change the code in the cell to do any algebraic expression, or adjust the values of the variables to make sure you have a grasp on what is going on."
      ]
    },
    {
      "cell_type": "code",
      "metadata": {
        "id": "EF6WGpoeNCxp",
        "colab_type": "code",
        "colab": {}
      },
      "source": [
        "x = 10 # An integer variable, non-descriptive name (bad)\n",
        "my_variable = 2 # An integer variable, descriptive name (better)\n"
      ],
      "execution_count": 0,
      "outputs": []
    },
    {
      "cell_type": "markdown",
      "metadata": {
        "id": "vVBGmT7lZudT",
        "colab_type": "text"
      },
      "source": [
        "You can run simple algebraic expressions such as multiply (\\*), divide (/), \n",
        "add (+), subtract (-), or raise to an exponent (**). Let's make a new variable, \n",
        "called sum_var, that is the sum of x and my_variable. "
      ]
    },
    {
      "cell_type": "code",
      "metadata": {
        "id": "ePAuMB-fZ0XT",
        "colab_type": "code",
        "colab": {}
      },
      "source": [
        "sum_var = x + my_variable # Add x to my_variable"
      ],
      "execution_count": 0,
      "outputs": []
    },
    {
      "cell_type": "markdown",
      "metadata": {
        "id": "AER6UEHzZ827",
        "colab_type": "text"
      },
      "source": [
        "If you've run the previous code cell, the value of *sum_var* is now the sum of *x* and *my_variable* and is stored in memory. To see the value of *sum_var*, you need to use one of Python's in-built functions 'print'. Functions are an integral part of programming, and allow us to do complex algorithms 'in a single line'. The following function just prints whatever variable or text string you enter into it."
      ]
    },
    {
      "cell_type": "code",
      "metadata": {
        "id": "ZPRK8u5zaW4K",
        "colab_type": "code",
        "outputId": "f65a3795-072d-4304-f873-c92e904327f5",
        "colab": {
          "base_uri": "https://localhost:8080/",
          "height": 34
        }
      },
      "source": [
        "print('The sum is: ' + str(sum_var)) # You can concatenate strings with +. \n",
        "# However, the resulting sum is an integer, so we need to 'cast' the integer \n",
        "# to a string type with the function str()"
      ],
      "execution_count": 0,
      "outputs": [
        {
          "output_type": "stream",
          "text": [
            "The sum is: 12\n"
          ],
          "name": "stdout"
        }
      ]
    },
    {
      "cell_type": "markdown",
      "metadata": {
        "id": "kJpbSuWNaie6",
        "colab_type": "text"
      },
      "source": [
        "Unlike the previous cells, this cell prints something to the user to see. The output of your print statement appears below the code cell. If you change any of the variables befor this cell after runnin the cell, you will need to re-run the cell to update Jupyter of the cell contents. \n",
        "\n",
        "This can be a laborious process, if you individually run each cell! A faster way is to use the 'Runtime' option on the main toolbar and select Run all, or run all before this cell. This may take a bit more time if your project is large.\n",
        "\n"
      ]
    },
    {
      "cell_type": "markdown",
      "metadata": {
        "id": "tAIIv9vZZA2t",
        "colab_type": "text"
      },
      "source": [
        "### 1.2.2 Colab Jupyter Code Snippets\n",
        "A useful feature in Colab, is the predifined code snippets which can be found in the left-hand toolbar, under the < > symbol. Here you can find a bunch of handy snippets that will help you add sliders, fields, import data and many more useful features. Whilst these may not be useful right now, it's encouraged to play around with the snippets so that you can develop more visually powerful and interactive code later on.\n",
        "\n",
        "Let's add a slider to change a variable and multiply the slider value with our previous sum.\n"
      ]
    },
    {
      "cell_type": "code",
      "metadata": {
        "id": "-3WYaVebe3n9",
        "colab_type": "code",
        "outputId": "e03a4fc3-e67d-4453-bce5-809039760cad",
        "colab": {
          "base_uri": "https://localhost:8080/",
          "height": 34
        }
      },
      "source": [
        "# Add a slider \n",
        "slider_value = 118  #@param {type: \"slider\", min: 0, max: 200}\n",
        "\n",
        "mult_var = sum_var * slider_value\n",
        "print('The multiplication is: '+ str(mult_var))"
      ],
      "execution_count": 0,
      "outputs": [
        {
          "output_type": "stream",
          "text": [
            "The multiplication is: 1236\n"
          ],
          "name": "stdout"
        }
      ]
    },
    {
      "cell_type": "markdown",
      "metadata": {
        "id": "9twejG5dkWxT",
        "colab_type": "text"
      },
      "source": [
        "\n",
        "\n",
        "---\n",
        "\n",
        "\n"
      ]
    },
    {
      "cell_type": "markdown",
      "metadata": {
        "id": "vfLgOIJ4KW7W",
        "colab_type": "text"
      },
      "source": [
        "# 2 Radar Fundamentals\n"
      ]
    },
    {
      "cell_type": "markdown",
      "metadata": {
        "id": "1yQcQkvDklWa",
        "colab_type": "text"
      },
      "source": [
        "<a id='Radar'></a>\n",
        "\n",
        "[Radar](https://en.wikipedia.org/wiki/Radar) is an acronym for Radio Detection and Ranging. Therefore, the fundamental goal of any radar, is to measure the Range of a distant object using the two-way propogation of electromagnetic waves (in the radio and microwave spectrum).\n",
        "\n",
        "This section will discuss the fundamental operation of a radar system from  [first principles](https://en.wikipedia.org/wiki/First_principle), leading you through the thought patterns of a radar engineer.\n",
        "\n",
        "We will introduce each concept, which you will use in your notebook to calculate elementary design parameters for the relavent example. "
      ]
    },
    {
      "cell_type": "markdown",
      "metadata": {
        "id": "eW6IxcVSlBnQ",
        "colab_type": "text"
      },
      "source": [
        "## 2.1 A Simple Range Measurement"
      ]
    },
    {
      "cell_type": "markdown",
      "metadata": {
        "id": "2w_QBNAelHmA",
        "colab_type": "text"
      },
      "source": [
        "## 2.2 Range Resolution"
      ]
    },
    {
      "cell_type": "markdown",
      "metadata": {
        "id": "51a8AKXLlOZY",
        "colab_type": "text"
      },
      "source": [
        "## 2.3 Pulse Repetition\n"
      ]
    },
    {
      "cell_type": "markdown",
      "metadata": {
        "id": "rSAobbURleD3",
        "colab_type": "text"
      },
      "source": [
        "## 2.4 Range Ambiguities"
      ]
    },
    {
      "cell_type": "markdown",
      "metadata": {
        "id": "5Jz5y214l5tf",
        "colab_type": "text"
      },
      "source": [
        "## Radar Range Equation for Power\n"
      ]
    },
    {
      "cell_type": "markdown",
      "metadata": {
        "id": "FdXTyXXgnBpV",
        "colab_type": "text"
      },
      "source": [
        "## Adding Noise i.e SNR"
      ]
    },
    {
      "cell_type": "markdown",
      "metadata": {
        "id": "dsxZVcBinHHO",
        "colab_type": "text"
      },
      "source": [
        "## Doppler"
      ]
    },
    {
      "cell_type": "markdown",
      "metadata": {
        "id": "mRpT985LnQ2M",
        "colab_type": "text"
      },
      "source": [
        "## Simplifying using a Spreadsheet "
      ]
    },
    {
      "cell_type": "markdown",
      "metadata": {
        "id": "2nWzBJOrn44j",
        "colab_type": "text"
      },
      "source": [
        "## SARSIM"
      ]
    },
    {
      "cell_type": "markdown",
      "metadata": {
        "id": "1YizOX5uE2gK",
        "colab_type": "text"
      },
      "source": [
        "# 3 NeXtRAD\n"
      ]
    },
    {
      "cell_type": "markdown",
      "metadata": {
        "id": "hlT-03yUkr1G",
        "colab_type": "text"
      },
      "source": [
        "## About NeXtRAD\n",
        "NeXtRAD is a multistatic, or netted, radar developed by UCT and UCL. The radar has a single transceiver (monostatic radar), and 2 passive receivers, and works in the X and L bands. NeXtRAD is fully polarimetric"
      ]
    },
    {
      "cell_type": "markdown",
      "metadata": {
        "id": "TPh5NSqxn-1i",
        "colab_type": "text"
      },
      "source": [
        "## Block Diagram"
      ]
    },
    {
      "cell_type": "markdown",
      "metadata": {
        "id": "LE5UdIWhoHMx",
        "colab_type": "text"
      },
      "source": [
        "## Specification"
      ]
    },
    {
      "cell_type": "markdown",
      "metadata": {
        "id": "sWRB-b4OoL_j",
        "colab_type": "text"
      },
      "source": [
        "## NeXtRAD Data"
      ]
    },
    {
      "cell_type": "markdown",
      "metadata": {
        "id": "LYDwS50QoU4J",
        "colab_type": "text"
      },
      "source": [
        "### Format"
      ]
    },
    {
      "cell_type": "markdown",
      "metadata": {
        "id": "auRic1xboXwS",
        "colab_type": "text"
      },
      "source": [
        "### Plotting some ADC Raw Values"
      ]
    },
    {
      "cell_type": "markdown",
      "metadata": {
        "id": "JMqX8CUjoffS",
        "colab_type": "text"
      },
      "source": [
        "### Pulse Compression"
      ]
    },
    {
      "cell_type": "markdown",
      "metadata": {
        "id": "US-h9-mkojA5",
        "colab_type": "text"
      },
      "source": [
        "### Doppler Analysis"
      ]
    },
    {
      "cell_type": "markdown",
      "metadata": {
        "id": "uuVeyOoBonvS",
        "colab_type": "text"
      },
      "source": [
        "## Multistatic Radar Calculations"
      ]
    }
  ]
}