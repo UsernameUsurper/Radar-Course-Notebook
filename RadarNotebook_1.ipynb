{
  "nbformat": 4,
  "nbformat_minor": 0,
  "metadata": {
    "colab": {
      "name": "Untitled0.ipynb",
      "provenance": [],
      "toc_visible": true,
      "authorship_tag": "ABX9TyPbFexg7qF3xdhbPttYoRUt",
      "include_colab_link": true
    },
    "kernelspec": {
      "name": "python3",
      "display_name": "Python 3"
    }
  },
  "cells": [
    {
      "cell_type": "markdown",
      "metadata": {
        "id": "view-in-github",
        "colab_type": "text"
      },
      "source": [
        "<a href=\"https://colab.research.google.com/github/UsernameUsurper/Radar-Course-Notebook/blob/master/RadarNotebook_1.ipynb\" target=\"_parent\"><img src=\"https://colab.research.google.com/assets/colab-badge.svg\" alt=\"Open In Colab\"/></a>"
      ]
    },
    {
      "cell_type": "markdown",
      "metadata": {
        "id": "jQz0rIvAcmzc",
        "colab_type": "text"
      },
      "source": [
        "# 1 Introduction\n"
      ]
    },
    {
      "cell_type": "markdown",
      "metadata": {
        "id": "kYO_ELackdee",
        "colab_type": "text"
      },
      "source": [
        "\n",
        "This is a Jupyter Notebook to introduce the student to Colab, Jupyter and Python3.\n",
        "\n",
        "All software is Open Source, available for download. All images are referenced or self-produced."
      ]
    },
    {
      "cell_type": "markdown",
      "metadata": {
        "id": "VfVbHx2cNN6J",
        "colab_type": "text"
      },
      "source": [
        "\n",
        "## 1.1 Introducing Jupyter and Colab\n",
        "Welcome to your Jupyter Notebook! Using Jupyter and Google's Colab will allow us to write simple code snippets with text and graphic explanations, so that you can follow along, write your own notes, and run quick sanity checks using Python 3.\n",
        "\n",
        "**Jupyter** is a interactive Python session that allows us to run and edit code, whilst keeping useful variables stored in RAM. You can edit, rearange and share your Notebook for collaboration within teams. For more info, see the Jupyter website: https://jupyter.org/. You can install Jupyter on your laptop if you'd like an offline editor, but we'll use Google's Colab to ease the learning curve.\n",
        "\n",
        "**Google Colab** is  a free, Cloud based Jupyter editor that allows multiple users to share a Jupyter notebook. All the processing is handled on Google's Cloud based computing, so your laptop won't need any performance specs to run any code. For more on Colab see: https://colab.research.google.com/notebooks/intro.ipynb#recent=true\n",
        "\n",
        "### 1.1.1 Navigating the Notebook Quickly\n",
        "On the left hand side toolbar, you should see three symbols. The Table of Contents is the top most symbol, and will allow you to quickly move to relavent sections.\n",
        "\n",
        "You can collapse and expand entire sections, or subsections by clicking the small down arrow next to the section heading in the main text body. This may make it easier for you to follow by reducing the clutter surrounding the current topic.\n",
        "\n",
        "### 1.1.2 How to add a text cell\n",
        "Below the main toolbar, you will see a 'plus' symbol with Text. This will insert a text cell below the current cell that you are using. \n",
        "\n",
        "Within this cell you can add pretty much any text or image you would like, including URL links. This will allow you to add your own notes and explanations to the current notebook. You are free to add to, delete from, or edit, any of the code and text within this notebook. \n",
        "\n",
        "Markdown is a code-like way of writing in plain text, such that special Markdown specific symbols are interpreted as Using Markdown style writing is fairly simple and can be quickly picked up by following this tutorial: https://www.computerhope.com/jargon/m/markdown.htm\n",
        "\n",
        "However, Colab has added a simple way of editing text, similar to any graphical text editor. Use whichever method you prefer.\n",
        "\n",
        "---\n"
      ]
    },
    {
      "cell_type": "markdown",
      "metadata": {
        "id": "DQeaILIhMxcE",
        "colab_type": "text"
      },
      "source": [
        "## 1.2 Python 3 with Jupyter Tutorial\n",
        "As of 2020, Python is currently the highest ranked programming language amoungst active programmers and students. The reason for its popularity is due to its ubiquitous use across all fields, simple language-like structure, and large community support. Learning Python is highly encouraged, as there are are thousands of tutorials on the internet, with many of them offered free of charge. \n",
        "\n",
        "For this Course, we'll only use Python in the most rudimentary way, avoiding any computer science if possible. The code generated in this course will primarily be a way of supplementing the theory with quick calculations, and simple plots.\n",
        "\n",
        "If you have no experience in Python, or computer coding in general, do not fret! The instructors will be on hand to assist if you need help. Nevertheless, the following code cells will demonstrate a few basics to get started with, so that you can run back-of-the-envelope calculations later on. If you have used Python before, but not Jupyter, stick around to try out the code cells."
      ]
    },
    {
      "cell_type": "markdown",
      "metadata": {
        "id": "z6AaKev5ZE20",
        "colab_type": "text"
      },
      "source": [
        "### 1.2.1 Simple Algebraic Expression\n",
        "Let's start with the simplest concept in coding: Defining a variable. Variables are typically integers, floats (numbers with a decimal point) or strings (a 'string' of characters), although there are several other more advanced data types. Variables can have almost any name, except for a few reserved for Python. That being said, you should try give them a name that represents what they are (which will make it easier to remember what they are at a later stage). \n",
        "\n",
        "In the next 'code cell' you'll see we've defined two variables. In Jupyter Notebooks, you will need to run the cell in order to save the code variables or output into memory.\n",
        "\n",
        "To run the code cell that you are on, you can click the play\n",
        "button in the top, left-hand corner of the cell, or press shift+enter if you are in the cell. \n",
        "\n",
        "If the cell is running, you should see a loading bar, and upon completion, the brackets will have a number in them telling you what order the cell was executed. If you run into errors, Python will give you a descriptive error, which can be used to solve your problem. If you are unsure of the error, ask a tutor of copy and paste the error into a search engine - there are no stupid questions.\n",
        "\n",
        "Feel free to change the code in the cell to do any algebraic expression, or adjust the values of the variables to make sure you have a grasp on what is going on."
      ]
    },
    {
      "cell_type": "code",
      "metadata": {
        "id": "EF6WGpoeNCxp",
        "colab_type": "code",
        "colab": {}
      },
      "source": [
        "x = 10 # An integer variable, non-descriptive name (bad)\n",
        "my_variable = 2 # An integer variable, descriptive name (better)\n"
      ],
      "execution_count": 0,
      "outputs": []
    },
    {
      "cell_type": "markdown",
      "metadata": {
        "id": "vVBGmT7lZudT",
        "colab_type": "text"
      },
      "source": [
        "You can run simple algebraic expressions such as multiply (\\*), divide (/), \n",
        "add (+), subtract (-), or raise to an exponent (**). Let's make a new variable, \n",
        "called sum_var, that is the sum of x and my_variable. "
      ]
    },
    {
      "cell_type": "code",
      "metadata": {
        "id": "ePAuMB-fZ0XT",
        "colab_type": "code",
        "colab": {}
      },
      "source": [
        "sum_var = x + my_variable # Add x to my_variable"
      ],
      "execution_count": 0,
      "outputs": []
    },
    {
      "cell_type": "markdown",
      "metadata": {
        "id": "AER6UEHzZ827",
        "colab_type": "text"
      },
      "source": [
        "If you've run the previous code cell, the value of *sum_var* is now the sum of *x* and *my_variable* and is stored in memory. To see the value of *sum_var*, you need to use one of Python's in-built functions 'print'. Functions are an integral part of programming, and allow us to do complex algorithms 'in a single line'. The following function just prints whatever variable or text string you enter into it."
      ]
    },
    {
      "cell_type": "code",
      "metadata": {
        "id": "ZPRK8u5zaW4K",
        "colab_type": "code",
        "outputId": "f65a3795-072d-4304-f873-c92e904327f5",
        "colab": {
          "base_uri": "https://localhost:8080/",
          "height": 34
        }
      },
      "source": [
        "print('The sum is: ' + str(sum_var)) # You can concatenate strings with +. \n",
        "# However, the resulting sum is an integer, so we need to 'cast' the integer \n",
        "# to a string type with the function str()"
      ],
      "execution_count": 0,
      "outputs": [
        {
          "output_type": "stream",
          "text": [
            "The sum is: 12\n"
          ],
          "name": "stdout"
        }
      ]
    },
    {
      "cell_type": "markdown",
      "metadata": {
        "id": "kJpbSuWNaie6",
        "colab_type": "text"
      },
      "source": [
        "Unlike the previous cells, this cell prints something to the user to see. The output of your print statement appears below the code cell. If you change any of the variables befor this cell after runnin the cell, you will need to re-run the cell to update Jupyter of the cell contents. \n",
        "\n",
        "This can be a laborious process, if you individually run each cell! A faster way is to use the 'Runtime' option on the main toolbar and select Run all, or run all before this cell. This may take a bit more time if your project is large.\n",
        "\n"
      ]
    },
    {
      "cell_type": "markdown",
      "metadata": {
        "id": "tAIIv9vZZA2t",
        "colab_type": "text"
      },
      "source": [
        "### 1.2.2 Colab Jupyter Code Snippets\n",
        "A useful feature in Colab, is the predifined code snippets which can be found in the left-hand toolbar, under the < > symbol. Here you can find a bunch of handy snippets that will help you add sliders, fields, import data and many more useful features. Whilst these may not be useful right now, it's encouraged to play around with the snippets so that you can develop more visually powerful and interactive code later on.\n",
        "\n",
        "Let's add a slider to change a variable and multiply the slider value with our previous sum.\n"
      ]
    },
    {
      "cell_type": "code",
      "metadata": {
        "id": "-3WYaVebe3n9",
        "colab_type": "code",
        "outputId": "e03a4fc3-e67d-4453-bce5-809039760cad",
        "colab": {
          "base_uri": "https://localhost:8080/",
          "height": 34
        }
      },
      "source": [
        "# Add a slider \n",
        "slider_value = 118  #@param {type: \"slider\", min: 0, max: 200}\n",
        "\n",
        "mult_var = sum_var * slider_value\n",
        "print('The multiplication is: '+ str(mult_var))"
      ],
      "execution_count": 0,
      "outputs": [
        {
          "output_type": "stream",
          "text": [
            "The multiplication is: 1236\n"
          ],
          "name": "stdout"
        }
      ]
    }
  ]
}